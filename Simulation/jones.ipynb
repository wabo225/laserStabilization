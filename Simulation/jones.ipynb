{
 "cells": [
  {
   "cell_type": "code",
   "execution_count": 1,
   "source": [
    "import numpy as np\r\n",
    "from matplotlib import pyplot as plt\r\n"
   ],
   "outputs": [],
   "metadata": {}
  },
  {
   "cell_type": "code",
   "execution_count": 16,
   "source": [
    "H = np.array([1,0])\r\n",
    "V = np.array([0,1])\r\n",
    "\r\n",
    "rad = lambda degrees : degrees*np.pi/180\r\n",
    "# halfwave = lambda theta : np.array([\r\n",
    "#         [np.cos(theta)**2-np.sin(theta)**2,  2*np.cos(theta)*np.sin(theta)    ],\r\n",
    "#         [2*np.cos(theta)*np.sin(theta),      np.sin(theta)**2-np.cos(theta)**2]\r\n",
    "#     ])\r\n",
    "rotation = lambda theta : np.array([\r\n",
    "    [np.cos(theta),  np.sin(theta) ],\r\n",
    "    [-np.sin(theta), np.cos(theta) ]\r\n",
    "])\r\n",
    "\r\n",
    "halfwave = lambda theta=0 : rotation(theta) @ (np.array([\r\n",
    "    [1, 0 ],\r\n",
    "    [0, -1]\r\n",
    "]) @ np.linalg.inv(rotation(theta)))\r\n",
    "# quarterwave = lambda theta : np.exp(-1j*np.pi/4)*np.array([\r\n",
    "#     [np.cos(theta)**2+1j*np.sin(theta)**2, (1-1j)*np.sin(theta)*np.cos(theta)],\r\n",
    "#     [(1-1j)*np.sin(theta)*np.cos(theta), np.sin(theta)**2+1j*np.cos(theta)**2]\r\n",
    "# ])\r\n",
    "quarterwave = lambda theta=0 : rotation(theta) @ (np.array([\r\n",
    "    [1, 0],\r\n",
    "    [0, 1j]\r\n",
    "]) @ np.linalg.inv(rotation(theta)))\r\n",
    "\r\n"
   ],
   "outputs": [],
   "metadata": {}
  },
  {
   "cell_type": "code",
   "execution_count": 17,
   "source": [
    "halfwave() @ (H+0.1j*V)"
   ],
   "outputs": [
    {
     "output_type": "error",
     "ename": "AttributeError",
     "evalue": "module 'numpy' has no attribute 'inv'",
     "traceback": [
      "\u001b[1;31m---------------------------------------------------------------------------\u001b[0m",
      "\u001b[1;31mAttributeError\u001b[0m                            Traceback (most recent call last)",
      "\u001b[1;32m<ipython-input-17-a62d18b6f8a2>\u001b[0m in \u001b[0;36m<module>\u001b[1;34m\u001b[0m\n\u001b[1;32m----> 1\u001b[1;33m \u001b[0mhalfwave\u001b[0m\u001b[1;33m(\u001b[0m\u001b[1;33m)\u001b[0m \u001b[1;33m@\u001b[0m \u001b[1;33m(\u001b[0m\u001b[0mH\u001b[0m\u001b[1;33m+\u001b[0m\u001b[1;36m0.1j\u001b[0m\u001b[1;33m*\u001b[0m\u001b[0mV\u001b[0m\u001b[1;33m)\u001b[0m\u001b[1;33m\u001b[0m\u001b[0m\n\u001b[0m",
      "\u001b[1;32m<ipython-input-16-c10d5d8166b3>\u001b[0m in \u001b[0;36m<lambda>\u001b[1;34m(theta)\u001b[0m\n\u001b[0;32m     10\u001b[0m     \u001b[1;33m[\u001b[0m\u001b[1;36m1\u001b[0m\u001b[1;33m,\u001b[0m \u001b[1;36m0\u001b[0m \u001b[1;33m]\u001b[0m\u001b[1;33m,\u001b[0m\u001b[1;33m\u001b[0m\u001b[0m\n\u001b[0;32m     11\u001b[0m     \u001b[1;33m[\u001b[0m\u001b[1;36m0\u001b[0m\u001b[1;33m,\u001b[0m \u001b[1;33m-\u001b[0m\u001b[1;36m1\u001b[0m\u001b[1;33m]\u001b[0m\u001b[1;33m\u001b[0m\u001b[0m\n\u001b[1;32m---> 12\u001b[1;33m ]) @ np.inv(rot(theta)))\n\u001b[0m\u001b[0;32m     13\u001b[0m \u001b[1;31m# quarterwave = lambda theta : np.exp(-1j*np.pi/4)*np.array([\u001b[0m\u001b[1;33m\u001b[0m\u001b[1;33m\u001b[0m\u001b[0m\n\u001b[0;32m     14\u001b[0m \u001b[1;31m#     [np.cos(theta)**2+1j*np.sin(theta)**2, (1-1j)*np.sin(theta)*np.cos(theta)],\u001b[0m\u001b[1;33m\u001b[0m\u001b[1;33m\u001b[0m\u001b[0m\n",
      "\u001b[1;31mAttributeError\u001b[0m: module 'numpy' has no attribute 'inv'"
     ]
    }
   ],
   "metadata": {}
  },
  {
   "cell_type": "code",
   "execution_count": null,
   "source": [],
   "outputs": [],
   "metadata": {}
  }
 ],
 "metadata": {
  "orig_nbformat": 4,
  "language_info": {
   "name": "python"
  }
 },
 "nbformat": 4,
 "nbformat_minor": 2
}