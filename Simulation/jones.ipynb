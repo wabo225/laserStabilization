{
 "cells": [
  {
   "cell_type": "code",
   "execution_count": 1,
   "source": [
    "import numpy as np\r\n",
    "from matplotlib import pyplot as plt\r\n"
   ],
   "outputs": [],
   "metadata": {}
  },
  {
   "cell_type": "code",
   "execution_count": 18,
   "source": [
    "H = np.array([1,0])\r\n",
    "V = np.array([0,1])\r\n",
    "\r\n",
    "rad = lambda degrees : degrees*np.pi/180\r\n",
    "# halfwave = lambda theta : np.array([\r\n",
    "#         [np.cos(theta)**2-np.sin(theta)**2,  2*np.cos(theta)*np.sin(theta)    ],\r\n",
    "#         [2*np.cos(theta)*np.sin(theta),      np.sin(theta)**2-np.cos(theta)**2]\r\n",
    "#     ])\r\n",
    "rotation = lambda theta : np.array([\r\n",
    "    [np.cos(theta),  np.sin(theta) ],\r\n",
    "    [-np.sin(theta), np.cos(theta) ]\r\n",
    "])\r\n",
    "\r\n",
    "halfwave = lambda theta=0 : rotation(theta) @ (np.array([\r\n",
    "    [1, 0 ],\r\n",
    "    [0, -1]\r\n",
    "]) @ np.linalg.inv(rotation(theta)))\r\n",
    "# quarterwave = lambda theta : np.exp(-1j*np.pi/4)*np.array([\r\n",
    "#     [np.cos(theta)**2+1j*np.sin(theta)**2, (1-1j)*np.sin(theta)*np.cos(theta)],\r\n",
    "#     [(1-1j)*np.sin(theta)*np.cos(theta), np.sin(theta)**2+1j*np.cos(theta)**2]\r\n",
    "# ])\r\n",
    "quarterwave = lambda theta=0 : rotation(theta) @ (np.array([\r\n",
    "    [1, 0],\r\n",
    "    [0, 1j]\r\n",
    "]) @ np.linalg.inv(rotation(theta)))\r\n",
    "\r\n"
   ],
   "outputs": [],
   "metadata": {}
  },
  {
   "cell_type": "code",
   "execution_count": 19,
   "source": [
    "halfwave() @ (H+0.1j*V)"
   ],
   "outputs": [
    {
     "output_type": "execute_result",
     "data": {
      "text/plain": [
       "array([ 1.+0.j ,  0.-0.1j])"
      ]
     },
     "metadata": {},
     "execution_count": 19
    }
   ],
   "metadata": {}
  },
  {
   "cell_type": "code",
   "execution_count": null,
   "source": [],
   "outputs": [],
   "metadata": {}
  }
 ],
 "metadata": {
  "orig_nbformat": 4,
  "language_info": {
   "name": "python"
  }
 },
 "nbformat": 4,
 "nbformat_minor": 2
}