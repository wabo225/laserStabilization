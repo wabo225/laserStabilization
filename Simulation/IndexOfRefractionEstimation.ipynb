{
 "cells": [
  {
   "cell_type": "markdown",
   "source": [
    "$$n_{air} = 1 + \\left[\\left(8342.54 + \\frac{2406147}{130 -\\kappa^2} + \\frac{15998}{38.9 - \\kappa^2} \\right)\\left(\\frac{P}{96095.43}\\right)\\left(\\frac{1+10^{-8}(0.601 - 0.00972 T)P}{1 + 00.0036610 T}\\right)- f (0.037345 - 0.000401 \\kappa ^2)\\right]\\times 10^{-8}$$"
   ],
   "metadata": {}
  },
  {
   "cell_type": "code",
   "execution_count": 9,
   "source": [
    "# Defining Constants\r\n",
    "P: float = 101325. # \r\n",
    "T: float = 30. # K\r\n",
    "c: float = 2.99792458E8 # m/s\r\n",
    "nu: float = 384228.06\r\n",
    "kappa: float = 1. # Vacuum wave number in micrometers\r\n",
    "f: float = 1. # partial pressure of water vapor in the air in Pa"
   ],
   "outputs": [],
   "metadata": {}
  },
  {
   "cell_type": "code",
   "execution_count": 6,
   "source": [
    "# defining function\r\n",
    "def n_air(P:float,T:float,kappa:float,f:float) -> float:\r\n",
    "    '''       \r\n",
    "        @param P: float  Air pressure in Pa\r\n",
    "        @param T: float  Temperature in degrees C\r\n",
    "        @param kappa: float Vacuum wave number in micrometers^{-1}\r\n",
    "        @param f: float partial pressure of water vapor in the air in Pa\r\n",
    "    '''\r\n",
    "    return 1 + ((8342.54 + (2406147/(130-kappa**2)) +(15998/(38.9-kappa**2))) * (P / 96095.43) * ((1 + 1E-8*(0.601 -0.00972*T)*P) / (1 + 0.0036610 *T)) - f*(0.037345 - 0.000401*kappa**2))*1E-8"
   ],
   "outputs": [],
   "metadata": {}
  },
  {
   "cell_type": "markdown",
   "source": [],
   "metadata": {}
  }
 ],
 "metadata": {
  "orig_nbformat": 4,
  "language_info": {
   "name": "python",
   "version": "3.8.5",
   "mimetype": "text/x-python",
   "codemirror_mode": {
    "name": "ipython",
    "version": 3
   },
   "pygments_lexer": "ipython3",
   "nbconvert_exporter": "python",
   "file_extension": ".py"
  },
  "kernelspec": {
   "name": "python3",
   "display_name": "Python 3.8.5 64-bit"
  },
  "interpreter": {
   "hash": "2db524e06e9f5f4ffedc911c917cb75e12dbc923643829bf417064a77eb14d37"
  }
 },
 "nbformat": 4,
 "nbformat_minor": 2
}