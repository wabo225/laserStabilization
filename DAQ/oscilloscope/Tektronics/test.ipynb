{
 "metadata": {
  "language_info": {
   "codemirror_mode": {
    "name": "ipython",
    "version": 3
   },
   "file_extension": ".py",
   "mimetype": "text/x-python",
   "name": "python",
   "nbconvert_exporter": "python",
   "pygments_lexer": "ipython3",
   "version": "3.8.0"
  },
  "orig_nbformat": 4,
  "kernelspec": {
   "name": "python3",
   "display_name": "Python 3.8.0 64-bit"
  },
  "interpreter": {
   "hash": "2db524e06e9f5f4ffedc911c917cb75e12dbc923643829bf417064a77eb14d37"
  }
 },
 "nbformat": 4,
 "nbformat_minor": 2,
 "cells": [
  {
   "source": [
    "$u(t) = K_p*e(t) + \\int_0^t e(\\tau) d\\tau + \\frac{d}{dt}e(t)$"
   ],
   "cell_type": "markdown",
   "metadata": {}
  },
  {
   "cell_type": "code",
   "execution_count": null,
   "metadata": {},
   "outputs": [],
   "source": [
    "lambda K_p : lambda e : K_p*e"
   ]
  },
  {
   "source": [
    "With functions, I want a way to use the value given on the previous function call"
   ],
   "cell_type": "markdown",
   "metadata": {}
  },
  {
   "cell_type": "code",
   "execution_count": 4,
   "metadata": {},
   "outputs": [
    {
     "output_type": "execute_result",
     "data": {
      "text/plain": [
       "200"
      ]
     },
     "metadata": {},
     "execution_count": 4
    }
   ],
   "source": [
    "acc = 10\n",
    "I = lambda K_i : lambda e, acc=acc : K_i*(e+acc)\n",
    "I(10)(10)"
   ]
  },
  {
   "cell_type": "code",
   "execution_count": 12,
   "metadata": {},
   "outputs": [
    {
     "output_type": "stream",
     "name": "stdout",
     "text": [
      "21\n21\n"
     ]
    }
   ],
   "source": [
    "eulerSum = lambda n : n+eulerSum(n-1) if n else 0\n",
    "print(eulerSum(6))\n",
    "print(sum(range(7)))"
   ]
  },
  {
   "cell_type": "code",
   "execution_count": 91,
   "metadata": {},
   "outputs": [
    {
     "output_type": "execute_result",
     "data": {
      "text/plain": [
       "0"
      ]
     },
     "metadata": {},
     "execution_count": 91
    }
   ],
   "source": [
    "\n",
    "class PID:\n",
    "    prev = 0\n",
    "    acc = 0\n",
    "    e = 0\n",
    "    def __init__(K_p, K_i, K_d):\n",
    "        self.K_p = K_p\n",
    "        self.K_i = K_i\n",
    "        self.K_s = K_d\n",
    "    \n",
    "    def update(self,e):\n",
    "        self.acc += e\n",
    "        self.prev = e\n",
    "        self.e = e\n",
    "\n",
    "    def __getPout():\n",
    "        return self.K_p*self.e\n",
    "\n",
    "    def __getIout():\n",
    "        return self.K_i*self.acc\n",
    "\n",
    "    def __getDout():\n",
    "        return self.K_d*(self.e - self.prev)\n",
    "\n",
    "    def output():\n",
    "        return self.__getPout() + self.__getIout() + self.__getDout()\n"
   ]
  },
  {
   "cell_type": "code",
   "execution_count": null,
   "metadata": {},
   "outputs": [],
   "source": []
  },
  {
   "cell_type": "code",
   "execution_count": null,
   "metadata": {},
   "outputs": [],
   "source": []
  }
 ]
}