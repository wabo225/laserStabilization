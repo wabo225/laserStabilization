{
 "cells": [
  {
   "cell_type": "code",
   "execution_count": 2,
   "metadata": {},
   "outputs": [],
   "source": [
    "import pyvisa\n",
    "from time import sleep\n",
    "from matplotlib import pyplot as plt\n",
    "import numpy as np"
   ]
  },
  {
   "cell_type": "code",
   "execution_count": 3,
   "metadata": {},
   "outputs": [
    {
     "name": "stdout",
     "output_type": "stream",
     "text": [
      "('USB0::0x0699::0x03A6::C018103::INSTR', 'ASRL1::INSTR')\n"
     ]
    }
   ],
   "source": [
    "rm = pyvisa.ResourceManager()\n",
    "print(rm.list_resources())"
   ]
  },
  {
   "cell_type": "code",
   "execution_count": 4,
   "metadata": {},
   "outputs": [
    {
     "name": "stdout",
     "output_type": "stream",
     "text": [
      "TEKTRONIX,TDS 2024C,C018103,CF:91.1CT FV:v24.18\n",
      "\n"
     ]
    }
   ],
   "source": [
    "oscilloscope = rm.open_resource(rm.list_resources()[0])\n",
    "print(oscilloscope.query('*IDN?'))"
   ]
  },
  {
   "cell_type": "markdown",
   "metadata": {},
   "source": [
    "Here I'll give examples of other SCPI commands for the tektronix oscilloscope 2024C.\n",
    "A comprehensive list is available at https://download.tek.com/manual/TBS1000-B-EDU-TDS2000-B-C-TDS1000-B-C-EDU-TDS200-TPS2000-Programmer.pdf"
   ]
  },
  {
   "cell_type": "code",
   "execution_count": 5,
   "metadata": {},
   "outputs": [
    {
     "data": {
      "text/plain": [
       "'MEAN;\"V\";CH1\\n'"
      ]
     },
     "execution_count": 5,
     "metadata": {},
     "output_type": "execute_result"
    }
   ],
   "source": [
    "oscilloscope.query('MEASUrement:IMMed?')"
   ]
  },
  {
   "cell_type": "code",
   "execution_count": 6,
   "metadata": {},
   "outputs": [
    {
     "data": {
      "text/plain": [
       "29"
      ]
     },
     "execution_count": 6,
     "metadata": {},
     "output_type": "execute_result"
    }
   ],
   "source": [
    "oscilloscope.write('MEASUrement:IMMed:SOUrce CH1')\n",
    "oscilloscope.write('MEASUrement:IMMed:TYPe MEAN')"
   ]
  },
  {
   "cell_type": "code",
   "execution_count": 7,
   "metadata": {},
   "outputs": [],
   "source": [
    "def analogConversion(voltage, setPoint=780.000, analogRes=0.001):\n",
    "    '''\n",
    "    This function should take an averaged analog output, collected via pyvisa, and convert it into the displayed wavelength on the front panel.\n",
    "    See manual section 5.2.3\n",
    "    @param voltage\n",
    "    @param setpoint: nanometers Inputted into the front of the Burleigh WA1000\n",
    "    @param analogRes: nanometers Inputted into the front of the Burleigh WA1000\n",
    "    '''\n",
    "    # The manual gives an equation $(Analog Output Voltage) =  0.0049*(Deviation in nm)/(Analog Res) + Offset$\n",
    "    # Offset will need to be calculated via the difference in reading through this program and on the face of the wavemeter\n",
    "\n",
    "    offset = 0\n",
    "    deviation = (voltage + offset)/0.0049 * analogRes\n",
    "    return(setPoint+deviation - 0.0072428680025637959\n",
    "    )"
   ]
  },
  {
   "cell_type": "code",
   "execution_count": 9,
   "metadata": {},
   "outputs": [
    {
     "data": {
      "text/plain": [
       "781.0217140123648"
      ]
     },
     "execution_count": 9,
     "metadata": {},
     "output_type": "execute_result"
    }
   ],
   "source": [
    "volt = float(oscilloscope.query('MEASU:IMM:VAL?').strip())\n",
    "# print(volt)\n",
    "analogConversion(volt)\n",
    "# round(analogConversion(volt))"
   ]
  },
  {
   "cell_type": "code",
   "execution_count": 10,
   "metadata": {},
   "outputs": [
    {
     "data": {
      "text/plain": [
       "0.0072428680025637959"
      ]
     },
     "execution_count": 10,
     "metadata": {},
     "output_type": "execute_result"
    }
   ],
   "source": [
    "calibration  = np.array([[780.2328033106735, 780.228],\n",
    "[780.2443916213673, 780.237],\n",
    "[780.2164326881837, 780.210],\n",
    "[780.286704058551, 780.280],\n",
    "[780.2430637515306, 780.236],\n",
    "[780.2802851735306, 780.271],\n",
    "[780.243681134, 780.236],\n",
    "[780.2795812061837, 780.271]])\n",
    "np.sum(calibration[:,0]-calibration[:,1])/8"
   ]
  }
 ],
 "metadata": {
  "interpreter": {
   "hash": "67f2ed0c1e8046f25adbe5a6a657aab9ca8b5533ccd2d1d169177c7f5308b6f1"
  },
  "kernelspec": {
   "display_name": "Python 3.6.3 32-bit",
   "name": "python3"
  },
  "language_info": {
   "codemirror_mode": {
    "name": "ipython",
    "version": 3
   },
   "file_extension": ".py",
   "mimetype": "text/x-python",
   "name": "python",
   "nbconvert_exporter": "python",
   "pygments_lexer": "ipython3",
   "version": "3.6.3"
  },
  "orig_nbformat": 4
 },
 "nbformat": 4,
 "nbformat_minor": 2
}