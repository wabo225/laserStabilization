{
 "cells": [
  {
   "cell_type": "code",
   "execution_count": 2,
   "source": [
    "import pyvisa\r\n",
    "from time import sleep\r\n",
    "from matplotlib import pyplot as plt\r\n",
    "import numpy as np"
   ],
   "outputs": [],
   "metadata": {}
  },
  {
   "cell_type": "code",
   "execution_count": 3,
   "source": [
    "rm = pyvisa.ResourceManager()\r\n",
    "print(rm.list_resources())"
   ],
   "outputs": [
    {
     "output_type": "stream",
     "name": "stdout",
     "text": [
      "('USB0::0x0699::0x03A6::C018103::INSTR', 'ASRL1::INSTR', 'ASRL4::INSTR')\n"
     ]
    }
   ],
   "metadata": {}
  },
  {
   "cell_type": "code",
   "execution_count": 13,
   "source": [
    "def paramRef(dlc, command):\r\n",
    "    dlc.write(\"(param-ref \" + command + \")\")\r\n",
    "    dlc.read()\r\n",
    "    return dlc.read().strip()\r\n",
    "\r\n",
    "def paramDisp(dlc, command):\r\n",
    "    dlc.write(\"(param-disp \" + command + \")\")\r\n",
    "    response = dlc.read()\r\n",
    "    while response != 0:\r\n",
    "        print(response, end='')\r\n",
    "        response=dlc.read()\r\n",
    "\r\n",
    "def exec(dlc, command):\r\n",
    "    dlc.write(\"(exec \" + command + \")\")"
   ],
   "outputs": [],
   "metadata": {}
  },
  {
   "cell_type": "code",
   "execution_count": 23,
   "source": [
    "oscilloscope = rm.open_resource(rm.list_resources()[0])\r\n",
    "dlc = rm.open_resource(rm.list_resources()[2])\r\n",
    "print(oscilloscope.query('*IDN?'))\r\n",
    "# print(dlc.write(\"param-disp 'laser1\"))\r\n",
    "# print(dlc.read())\r\n",
    "\r\n",
    "dlc.close()\r\n",
    "oscilloscope.close()"
   ],
   "outputs": [
    {
     "output_type": "stream",
     "name": "stdout",
     "text": [
      "TEKTRONIX,TDS 2024C,C018103,CF:91.1CT FV:v24.18\n",
      "\n"
     ]
    }
   ],
   "metadata": {}
  },
  {
   "cell_type": "markdown",
   "source": [
    "Here I'll give examples of other SCPI commands for the tektronix oscilloscope 2024C.\n",
    "A comprehensive list is available at https://download.tek.com/manual/TBS1000-B-EDU-TDS2000-B-C-TDS1000-B-C-EDU-TDS200-TPS2000-Programmer.pdf"
   ],
   "metadata": {}
  },
  {
   "cell_type": "code",
   "execution_count": 22,
   "source": [
    "dlc.close()\r\n",
    "oscilloscope.close()"
   ],
   "outputs": [],
   "metadata": {}
  },
  {
   "cell_type": "code",
   "execution_count": 25,
   "source": [
    "def analogConversion(voltage, setPoint=780.000, analogRes=0.001):\r\n",
    "    '''\r\n",
    "    This function should take an averaged analog output, collected via pyvisa, and convert it into the displayed wavelength on the front panel.\r\n",
    "    See manual section 5.2.3\r\n",
    "    @param voltage\r\n",
    "    @param setpoint: nanometers Inputted into the front of the Burleigh WA1000\r\n",
    "    @param analogRes: nanometers Inputted into the front of the Burleigh WA1000\r\n",
    "    '''\r\n",
    "    # The manual gives an equation $(Analog Output Voltage) =  0.0049*(Deviation in nm)/(Analog Res) + Offset$\r\n",
    "    # Offset will need to be calculated via the difference in reading through this program and on the face of the wavemeter\r\n",
    "\r\n",
    "    offset = 0\r\n",
    "    deviation = (voltage + offset)/0.0049 * analogRes\r\n",
    "    return(setPoint+deviation - 0.0072428680025637959\r\n",
    "    )"
   ],
   "outputs": [],
   "metadata": {}
  },
  {
   "cell_type": "code",
   "execution_count": 10,
   "source": [
    "calibration  = np.array([[780.2328033106735, 780.228],\r\n",
    "[780.2443916213673, 780.237],\r\n",
    "[780.2164326881837, 780.210],\r\n",
    "[780.286704058551, 780.280],\r\n",
    "[780.2430637515306, 780.236],\r\n",
    "[780.2802851735306, 780.271],\r\n",
    "[780.243681134, 780.236],\r\n",
    "[780.2795812061837, 780.271]])\r\n",
    "np.sum(calibration[:,0]-calibration[:,1])/8"
   ],
   "outputs": [
    {
     "output_type": "execute_result",
     "data": {
      "text/plain": [
       "0.0072428680025637959"
      ]
     },
     "metadata": {},
     "execution_count": 10
    }
   ],
   "metadata": {}
  }
 ],
 "metadata": {
  "interpreter": {
   "hash": "67f2ed0c1e8046f25adbe5a6a657aab9ca8b5533ccd2d1d169177c7f5308b6f1"
  },
  "kernelspec": {
   "display_name": "Python 3.6.3 32-bit",
   "name": "python3"
  },
  "language_info": {
   "codemirror_mode": {
    "name": "ipython",
    "version": 3
   },
   "file_extension": ".py",
   "mimetype": "text/x-python",
   "name": "python",
   "nbconvert_exporter": "python",
   "pygments_lexer": "ipython3",
   "version": "3.6.3"
  },
  "orig_nbformat": 4
 },
 "nbformat": 4,
 "nbformat_minor": 2
}